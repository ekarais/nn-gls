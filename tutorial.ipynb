{
 "cells": [
  {
   "cell_type": "code",
   "execution_count": 1,
   "metadata": {},
   "outputs": [],
   "source": [
    "%load_ext autoreload\n",
    "%autoreload 2"
   ]
  },
  {
   "cell_type": "code",
   "execution_count": 2,
   "metadata": {},
   "outputs": [],
   "source": [
    "# Import libraries\n",
    "import numpy as np\n",
    "import torch\n",
    "from torch_geometric.loader import NeighborLoader\n",
    "import utilities"
   ]
  },
  {
   "cell_type": "code",
   "execution_count": 3,
   "metadata": {},
   "outputs": [],
   "source": [
    "# Define synthetic data parameters\n",
    "num_samples = 8000\n",
    "num_dimensions = 2\n",
    "tau = 1\n",
    "sigma = 1\n",
    "phi = 10\n",
    "\n",
    "# Define NN-GLS parameters\n",
    "num_neighbors = 4\n",
    "sigma_init = 0.1\n",
    "\n",
    "# Define training parameters\n",
    "num_epochs = 1000\n",
    "batch_size = 400\n",
    "learning_rate = 0.0001\n",
    "\n",
    "# Define constants\n",
    "NUM_FEATURES = 5"
   ]
  },
  {
   "cell_type": "code",
   "execution_count": 4,
   "metadata": {},
   "outputs": [],
   "source": [
    "# Generate synthetic data\n",
    "train_data = utilities.generate_samples(num_samples, num_dimensions, num_neighbors, tau, sigma, phi)\n",
    "test_data = utilities.generate_samples(num_samples, num_dimensions, num_neighbors, tau, sigma, phi)"
   ]
  },
  {
   "cell_type": "code",
   "execution_count": 5,
   "metadata": {},
   "outputs": [
    {
     "name": "stdout",
     "output_type": "stream",
     "text": [
      "Benchmark MSE: 2.923\n"
     ]
    }
   ],
   "source": [
    "# Compute benchmark MSE (always predicting the mean)\n",
    "benchmark_preds = torch.full(test_data.y.shape, train_data.y.mean())\n",
    "benchmark_mse = torch.nn.functional.mse_loss(benchmark_preds, test_data.y)\n",
    "print(f'Benchmark MSE: {benchmark_mse:.3f}')"
   ]
  },
  {
   "cell_type": "code",
   "execution_count": 6,
   "metadata": {},
   "outputs": [
    {
     "name": "stdout",
     "output_type": "stream",
     "text": [
      "sigma: 0.100, phi: 5.995, tau: 0.247\n"
     ]
    }
   ],
   "source": [
    "# Create dataloader, model, and optimizer\n",
    "train_loader = NeighborLoader(train_data, input_nodes=torch.tensor(range(num_samples)), num_neighbors=[num_neighbors], batch_size=batch_size, replace=False, shuffle=True)\n",
    "model = utilities.NNGLS(num_features=NUM_FEATURES, num_neighbors=num_neighbors, num_dimensions=num_dimensions, sigma=sigma_init)\n",
    "print(f\"sigma: {model.sigma.item():.3f}, phi: {model.phi.item():.3f}, tau: {model.tau.item():.3f}\")\n",
    "optimizer = torch.optim.Adam(model.parameters(), lr=learning_rate)"
   ]
  },
  {
   "cell_type": "code",
   "execution_count": 7,
   "metadata": {},
   "outputs": [
    {
     "name": "stdout",
     "output_type": "stream",
     "text": [
      "Epoch 999, Loss: 0.484, Metric: 1.325, sigma: 0.651, phi: 4.473, tau: 1.5340"
     ]
    }
   ],
   "source": [
    "# Training/evaluation loop\n",
    "for epoch in range(num_epochs):\n",
    "    # Train for one epoch\n",
    "    model.train()\n",
    "    for batch_idx, batch in enumerate(train_loader):\n",
    "        optimizer.zero_grad()\n",
    "        decorrelated_preds, decorrelated_targets, preds = model(batch)\n",
    "        loss = torch.nn.functional.mse_loss(decorrelated_preds[:batch_size], decorrelated_targets[:batch_size])\n",
    "        metric = torch.nn.functional.mse_loss(preds[:batch_size], batch.y[:batch_size])\n",
    "        loss.backward()\n",
    "        optimizer.step()\n",
    "    # Compute predictions on held-out test test\n",
    "    model.eval()\n",
    "    decorrelated_preds, decorrelated_targets, preds = model(test_data)\n",
    "    loss = torch.nn.functional.mse_loss(decorrelated_preds, decorrelated_targets)\n",
    "    metric = torch.nn.functional.mse_loss(preds, test_data.y)\n",
    "    print(f\"\\rEpoch {epoch}, Loss: {loss.item():.3f}, Metric: {metric.item():.3f}, sigma: {model.sigma.item():.3f}, phi: {model.phi.item():.3f}, tau: {model.tau.item():.3f}\", end=\"\")"
   ]
  },
  {
   "cell_type": "code",
   "execution_count": null,
   "metadata": {},
   "outputs": [],
   "source": []
  }
 ],
 "metadata": {
  "kernelspec": {
   "display_name": "nn-gls",
   "language": "python",
   "name": "python3"
  },
  "language_info": {
   "codemirror_mode": {
    "name": "ipython",
    "version": 3
   },
   "file_extension": ".py",
   "mimetype": "text/x-python",
   "name": "python",
   "nbconvert_exporter": "python",
   "pygments_lexer": "ipython3",
   "version": "3.10.12"
  }
 },
 "nbformat": 4,
 "nbformat_minor": 2
}
